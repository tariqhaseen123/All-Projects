{
 "cells": [
  {
   "cell_type": "code",
   "execution_count": 76,
   "id": "fcb8548d-a374-493e-947c-3770507deada",
   "metadata": {},
   "outputs": [],
   "source": [
    "import math"
   ]
  },
  {
   "cell_type": "code",
   "execution_count": 11,
   "id": "3bb86d6a-f0bb-4c24-a8b0-e8a05ceacd4b",
   "metadata": {},
   "outputs": [
    {
     "name": "stdout",
     "output_type": "stream",
     "text": [
      "Pi values with four significant digits:3.142\n"
     ]
    }
   ],
   "source": [
    "print(\"Pi values with four significant digits:{:.4}\".format(math.pi))"
   ]
  },
  {
   "cell_type": "code",
   "execution_count": 13,
   "id": "f37376a8-84af-46dc-aabc-235b6d1d10af",
   "metadata": {},
   "outputs": [
    {
     "data": {
      "text/plain": [
       "3.481240089335692"
      ]
     },
     "execution_count": 13,
     "metadata": {},
     "output_type": "execute_result"
    }
   ],
   "source": [
    "math.log(32.5)"
   ]
  },
  {
   "cell_type": "code",
   "execution_count": 15,
   "id": "9f4fe7f5-83af-4d97-be14-523fe01fac9f",
   "metadata": {},
   "outputs": [],
   "source": [
    "import numpy"
   ]
  },
  {
   "cell_type": "code",
   "execution_count": 25,
   "id": "cc0ea0a4-1f3b-43a6-a5de-c2909c702bd5",
   "metadata": {},
   "outputs": [
    {
     "name": "stdout",
     "output_type": "stream",
     "text": [
      "the numpy.random is a <class 'module'>\n"
     ]
    }
   ],
   "source": [
    "print(\"the numpy.random is a\",type(numpy.random))"
   ]
  },
  {
   "cell_type": "code",
   "execution_count": 27,
   "id": "e9490216-f639-4f34-885f-027a080d89e4",
   "metadata": {},
   "outputs": [
    {
     "data": {
      "text/plain": [
       "<function RandomState.randint>"
      ]
     },
     "execution_count": 27,
     "metadata": {},
     "output_type": "execute_result"
    }
   ],
   "source": [
    "numpy.random.randint"
   ]
  },
  {
   "cell_type": "code",
   "execution_count": 35,
   "id": "16388116-ac26-4aaf-a382-b8cd65a9944e",
   "metadata": {},
   "outputs": [
    {
     "data": {
      "text/plain": [
       "array([4, 3, 4, 1, 4, 1, 3, 3])"
      ]
     },
     "execution_count": 35,
     "metadata": {},
     "output_type": "execute_result"
    }
   ],
   "source": [
    "rolls=numpy.random.randint(low=1,high=6,size=8)\n",
    "rolls"
   ]
  },
  {
   "cell_type": "code",
   "execution_count": 39,
   "id": "16d40b2a-e286-4d79-96ce-1345269bf164",
   "metadata": {},
   "outputs": [
    {
     "data": {
      "text/plain": [
       "numpy.ndarray"
      ]
     },
     "execution_count": 39,
     "metadata": {},
     "output_type": "execute_result"
    }
   ],
   "source": [
    "type(rolls)"
   ]
  },
  {
   "cell_type": "code",
   "execution_count": 55,
   "id": "65712384-c022-410f-ad0b-747a87004980",
   "metadata": {},
   "outputs": [
    {
     "data": {
      "text/plain": [
       "2.875"
      ]
     },
     "execution_count": 55,
     "metadata": {},
     "output_type": "execute_result"
    }
   ],
   "source": [
    "rolls.mean()"
   ]
  },
  {
   "cell_type": "code",
   "execution_count": 64,
   "id": "affc8f00-9e9d-41d2-80c6-63cfafdd17b7",
   "metadata": {},
   "outputs": [
    {
     "name": "stdout",
     "output_type": "stream",
     "text": [
      "convert rolls to list\n"
     ]
    },
    {
     "data": {
      "text/plain": [
       "[4, 3, 4, 1, 4, 1, 3, 3]"
      ]
     },
     "execution_count": 64,
     "metadata": {},
     "output_type": "execute_result"
    }
   ],
   "source": [
    "print(\"convert rolls to list\")\n",
    "rolls.tolist()"
   ]
  },
  {
   "cell_type": "code",
   "execution_count": 66,
   "id": "32ae74ca-3de9-4a51-a486-f16559faa422",
   "metadata": {},
   "outputs": [
    {
     "data": {
      "text/plain": [
       "array([14, 13, 14, 11, 14, 11, 13, 13])"
      ]
     },
     "execution_count": 66,
     "metadata": {},
     "output_type": "execute_result"
    }
   ],
   "source": [
    "rolls+10"
   ]
  },
  {
   "cell_type": "code",
   "execution_count": 72,
   "id": "4ed51da8-533e-4539-bc2c-c7d24a599704",
   "metadata": {},
   "outputs": [
    {
     "ename": "ModuleNotFoundError",
     "evalue": "No module named 'tensorflow'",
     "output_type": "error",
     "traceback": [
      "\u001b[1;31m---------------------------------------------------------------------------\u001b[0m",
      "\u001b[1;31mModuleNotFoundError\u001b[0m                       Traceback (most recent call last)",
      "Cell \u001b[1;32mIn[72], line 1\u001b[0m\n\u001b[1;32m----> 1\u001b[0m \u001b[38;5;28;01mimport\u001b[39;00m \u001b[38;5;21;01mtensorflow\u001b[39;00m \u001b[38;5;28;01mas\u001b[39;00m \u001b[38;5;21;01mtf\u001b[39;00m\n",
      "\u001b[1;31mModuleNotFoundError\u001b[0m: No module named 'tensorflow'"
     ]
    }
   ],
   "source": [
    "import tensorflow as tf"
   ]
  },
  {
   "cell_type": "code",
   "execution_count": null,
   "id": "47b244ef-eef2-4bc3-8fe7-e715e5b92aeb",
   "metadata": {},
   "outputs": [],
   "source": []
  }
 ],
 "metadata": {
  "kernelspec": {
   "display_name": "Python 3 (ipykernel)",
   "language": "python",
   "name": "python3"
  },
  "language_info": {
   "codemirror_mode": {
    "name": "ipython",
    "version": 3
   },
   "file_extension": ".py",
   "mimetype": "text/x-python",
   "name": "python",
   "nbconvert_exporter": "python",
   "pygments_lexer": "ipython3",
   "version": "3.11.7"
  }
 },
 "nbformat": 4,
 "nbformat_minor": 5
}
