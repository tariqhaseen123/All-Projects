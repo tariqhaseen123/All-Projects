{
  "nbformat": 4,
  "nbformat_minor": 0,
  "metadata": {
    "colab": {
      "provenance": [],
      "toc_visible": true,
      "include_colab_link": true
    },
    "kernelspec": {
      "name": "python3",
      "display_name": "Python 3"
    },
    "language_info": {
      "name": "python"
    }
  },
  "cells": [
    {
      "cell_type": "markdown",
      "metadata": {
        "id": "view-in-github",
        "colab_type": "text"
      },
      "source": [
        "<a href=\"https://colab.research.google.com/github/tariqhaseen123/Mark-sheet/blob/main/Copy_of_Marksheet_py.ipynb\" target=\"_parent\"><img src=\"https://colab.research.google.com/assets/colab-badge.svg\" alt=\"Open In Colab\"/></a>"
      ]
    },
    {
      "cell_type": "markdown",
      "source": [
        "**Marksheet with Grading System:**\n"
      ],
      "metadata": {
        "id": "JHyoaOeJf0F3"
      }
    },
    {
      "cell_type": "code",
      "source": [
        "student_name=(input(\"Name of Student:\"))\n",
        "student_roll_no=int(input(\"Student Roll Number:\"))\n",
        "Physics=int(input(\"Physics:\"))\n",
        "Chemistry=int(input(\"Chemistry:\"))\n",
        "Mathematics=int(input(\"Mathematics:\"))\n",
        "English=int(input(\"English:\"))\n",
        "Urdu=int(input(\"Urdu:\"))\n",
        "Total= Physics+Chemistry+Mathematics+English+Urdu\n",
        "print(\"Total  number obtained:\",Total)\n",
        "Percentage=(Total/500)*100\n",
        "print(\"Percentage is:\",Percentage,\"%\")\n",
        "if(Percentage>=80):\n",
        "    print(\"You got A one grade\")\n",
        "elif(Percentage>=60):\n",
        "    print(\"You got A grade\")\n",
        "elif(Percentage>=40):\n",
        "    print(\"You got C grade\")\n",
        "else:\n",
        "    print(\"Failed in this Exam \")\n",
        "\n",
        "\n"
      ],
      "metadata": {
        "colab": {
          "base_uri": "https://localhost:8080/"
        },
        "id": "bvKIsiv8gCnR",
        "outputId": "c0e4ab40-ee5c-44d9-f290-9dac45038b3a"
      },
      "execution_count": 1,
      "outputs": [
        {
          "output_type": "stream",
          "name": "stdout",
          "text": [
            "Name of Student:saad\n",
            "Student Roll Number:8899\n",
            "Physics:23\n",
            "Chemistry:40\n",
            "Mathematics:34\n",
            "English:38\n",
            "Urdu:40\n",
            "Total  number obtained: 175\n",
            "Percentage is: 35.0 %\n",
            "Failed in this Exam \n"
          ]
        }
      ]
    }
  ]
}