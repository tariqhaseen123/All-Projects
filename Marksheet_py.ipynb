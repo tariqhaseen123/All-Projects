{
  "nbformat": 4,
  "nbformat_minor": 0,
  "metadata": {
    "colab": {
      "provenance": [],
      "toc_visible": true,
      "include_colab_link": true
    },
    "kernelspec": {
      "name": "python3",
      "display_name": "Python 3"
    },
    "language_info": {
      "name": "python"
    }
  },
  "cells": [
    {
      "cell_type": "markdown",
      "metadata": {
        "id": "view-in-github",
        "colab_type": "text"
      },
      "source": [
        "<a href=\"https://colab.research.google.com/github/tariqhaseen123/Mark-sheet/blob/main/Marksheet_py.ipynb\" target=\"_parent\"><img src=\"https://colab.research.google.com/assets/colab-badge.svg\" alt=\"Open In Colab\"/></a>"
      ]
    },
    {
      "cell_type": "markdown",
      "source": [
        "**Marksheet**\n"
      ],
      "metadata": {
        "id": "JHyoaOeJf0F3"
      }
    },
    {
      "cell_type": "code",
      "source": [
        "student_name=(input(\"Name of Student:\"))\n",
        "student_roll_no=int(input(\"Student Roll Number:\"))\n",
        "Physics=int(input(\"Physics:\"))\n",
        "Chemistry=int(input(\"Chemistry:\"))\n",
        "Mathematics=int(input(\"Mathematics:\"))\n",
        "English=int(input(\"English:\"))\n",
        "Urdu=int(input(\"Urdu:\"))\n",
        "Total= Physics+Chemistry+Mathematics+English+Urdu\n",
        "print(\"Total  number obtained:\",Total)\n",
        "Percentage=(Total/500)*100\n",
        "print(\"Percentage is:\",Percentage,\"%\")\n",
        "\n",
        "\n"
      ],
      "metadata": {
        "colab": {
          "base_uri": "https://localhost:8080/"
        },
        "id": "bvKIsiv8gCnR",
        "outputId": "3525e720-1c71-47c0-fdf5-1b833f497caf"
      },
      "execution_count": null,
      "outputs": [
        {
          "output_type": "stream",
          "name": "stdout",
          "text": [
            "Name of Student:Saad\n",
            "Student Roll Number:331034\n",
            "Physics:78\n",
            "Chemistry:74\n",
            "Mathematics:89\n",
            "English:78\n",
            "Urdu:88\n",
            "Total  number obtained: 407\n",
            "Percentage is: 81.39999999999999 %\n"
          ]
        }
      ]
    }
  ]
}